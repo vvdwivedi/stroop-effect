{
 "cells": [
  {
   "cell_type": "markdown",
   "metadata": {},
   "source": [
    "# Testing a perpetual phenomenon\n",
    "\n",
    "Author: Vivek V Dwivedi<br/>\n",
    "Dated: July 11, 2018\n",
    "\n",
    "## On your mark ...\n",
    "\n",
    "In a Stroop task, participants are presented with a list of words, with each word displayed in a color of ink. The participant’s task is to say out loud the color of the ink in which the word is printed. The task has two conditions: a congruent words condition, and an incongruent words condition. In the congruent words condition, the words being displayed are color words whose names match the colors in which they are printed: for example <span style=\"color:red\">RED</span>, <span style=\"color:blue\">BLUE</span>. In the incongruent words condition, the words displayed are color words whose names do not match the colors in which they are printed: for example <span style=\"color: green\">PURPLE</span>, <span style=\"color: blue\">ORANGE</span>. In each case, we measure the time it takes to name the ink colors in equally-sized lists. Each participant will go through and record a time from each condition.\n",
    "\n",
    "## Get Set ...\n",
    "\n",
    "We are looking at the response time for saying congruent or incongruent words. Hence we can state that:\n",
    "\n",
    "- Congruent and Incongruent words, or the type of word is our **independent variable**. \n",
    "\n",
    "- Time taken to say the color of ink in two lists of same size would be our **dependent variable**.\n",
    "\n",
    "With our dependent and independent variables identified, let's set our null and alternate hypothesis. A null hypothesis in this case would be that there is no significant difference between the mean time taken to say colors for congruent (μ<sub>c</sub>) and incongruent (μ<sub>i</sub>) words. Even though it seems likely that incongruent words will take longer time, my alternate hypothesis is that there is a significant difference in time taken for congruent and incongruent lists.\n",
    "\n",
    "H<sub>0</sub>: μ<sub>c</sub> = μ<sub>i</sub>\n",
    "\n",
    "H<sub>A</sub>: μ<sub>c</sub> != μ<sub>i</sub>\n",
    "\n",
    "With these null and alternate hypothesis set, what kind of statistical tests am I going to do?\n",
    "\n",
    "*Two tailed dependent samples t-test*\n",
    "\n",
    "Since I am not concerened about the direction, I will certainly go for a two tailed test. My dataset for this test contains 25 records and parameters are not available to me. Given that t distribution is used for small sample sizes with unknown population variance, I will go for a dependent samples t-test and see if we can retain or reject the null hypothesis. Also the same person is taking the test twice, so this falls under the *within-subject* or *repeated-measures* tests.\n",
    "\n",
    "## Go ...\n",
    "\n",
    "Let's figure out some descriptive statistics about our dataset. \n",
    "\n",
    "- Degrees of freedom (n -1): 24\n"
   ]
  },
  {
   "cell_type": "code",
   "execution_count": 27,
   "metadata": {},
   "outputs": [],
   "source": [
    "import csv\n",
    "import numpy as np\n",
    "import math \n",
    "\n",
    "timings = []\n",
    "with open('./data/stroopdata.csv') as f:\n",
    "    reader = csv.DictReader(f, delimiter=',')\n",
    "    for row in reader:\n",
    "        timings.append(row)\n"
   ]
  },
  {
   "cell_type": "code",
   "execution_count": 28,
   "metadata": {},
   "outputs": [],
   "source": [
    "# takes a list of numbers and returns the mean\n",
    "def mean(data):\n",
    "    return round(sum(data[0:len(data)])/len(data), 2)\n",
    "    "
   ]
  },
  {
   "cell_type": "code",
   "execution_count": 29,
   "metadata": {},
   "outputs": [],
   "source": [
    "# takes a list of numbers and returns the median\n",
    "def median(data):\n",
    "    data.sort()\n",
    "    length = len(data)\n",
    "\n",
    "    if length % 2 == 0:\n",
    "        median = round(((data[(length//2)] + data[(length//2) - 1]) / 2) , 2)\n",
    "    else:\n",
    "        median = round(data[(length//2)], 2)\n",
    "\n",
    "    return median"
   ]
  },
  {
   "cell_type": "code",
   "execution_count": 48,
   "metadata": {},
   "outputs": [],
   "source": [
    "# given a sample and sample mean, it returns the variance\n",
    "# for this very specific case, I am providing the mean as well, else it can be calculated\n",
    "def variance(data, mean):\n",
    "    # squared difference from mean\n",
    "    squared_difference = [(num - mean)**2 for num in data] \n",
    "    # sum of squared difference by degrees of freedom or sample size - 1\n",
    "    return round(sum(squared_difference[0:len(squared_difference)])/len(squared_difference), 2)"
   ]
  },
  {
   "cell_type": "code",
   "execution_count": 49,
   "metadata": {},
   "outputs": [],
   "source": [
    "def describe_data(data, entity_type):\n",
    "    mean_calculated = mean(data)\n",
    "    variance_calculated = variance(data, mean_calculated)\n",
    "    sd = math.sqrt(variance_calculated)\n",
    "    sem = sd / math.sqrt(len(data) - 1)\n",
    "    print('\\n-------------------------- {} --------------------------'.format(entity_type))\n",
    "    print('Mean: {}'.format(mean_calculated))\n",
    "    print('Median: {}'.format(median(data)))\n",
    "    print('Variance: {}'.format(variance_calculated))\n",
    "    print('Standard Deviation: {}'.format(sd))\n",
    "    print('Standard Error: {}'.format(sem))\n"
   ]
  },
  {
   "cell_type": "code",
   "execution_count": 50,
   "metadata": {},
   "outputs": [
    {
     "name": "stdout",
     "output_type": "stream",
     "text": [
      "\n",
      "-------------------------- congruent --------------------------\n",
      "Mean: 14.1\n",
      "Median: 14.4\n",
      "Variance: 12.1\n",
      "Standard Deviation: 3.478505426185217\n",
      "Standard Error: 0.7253185207353657\n",
      "\n",
      "-------------------------- Incongruent --------------------------\n",
      "Mean: 22.0\n",
      "Median: 21.0\n",
      "Variance: 22.1\n",
      "Standard Deviation: 4.701063709417263\n",
      "Standard Error: 0.9802395448141191\n"
     ]
    }
   ],
   "source": [
    "congruent_timings = [float(row['Congruent']) for row in timings]\n",
    "describe_data(congruent_timings, 'congruent')\n",
    "\n",
    "incongruent_timings = [float(row['Incongruent']) for row in timings]\n",
    "describe_data(incongruent_timings, 'Incongruent')"
   ]
  },
  {
   "cell_type": "code",
   "execution_count": null,
   "metadata": {},
   "outputs": [],
   "source": []
  },
  {
   "cell_type": "code",
   "execution_count": null,
   "metadata": {},
   "outputs": [],
   "source": []
  }
 ],
 "metadata": {
  "kernelspec": {
   "display_name": "Python 3",
   "language": "python",
   "name": "python3"
  },
  "language_info": {
   "codemirror_mode": {
    "name": "ipython",
    "version": 3
   },
   "file_extension": ".py",
   "mimetype": "text/x-python",
   "name": "python",
   "nbconvert_exporter": "python",
   "pygments_lexer": "ipython3",
   "version": "3.6.4"
  }
 },
 "nbformat": 4,
 "nbformat_minor": 2
}
