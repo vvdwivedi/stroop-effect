{
 "cells": [
  {
   "cell_type": "markdown",
   "metadata": {},
   "source": [
    "# Testing a perpetual phenomenon\n",
    "\n",
    "Author: Vivek V Dwivedi<br/>\n",
    "Dated: July 11, 2018\n",
    "\n",
    "## On your mark ...\n",
    "\n",
    "In a Stroop task, participants are presented with a list of words, with each word displayed in a color of ink. The participant’s task is to say out loud the color of the ink in which the word is printed. The task has two conditions: a congruent words condition, and an incongruent words condition. In the congruent words condition, the words being displayed are color words whose names match the colors in which they are printed: for example <span style=\"color:red\">RED</span>, <span style=\"color:blue\">BLUE</span>. In the incongruent words condition, the words displayed are color words whose names do not match the colors in which they are printed: for example <span style=\"color: green\">PURPLE</span>, <span style=\"color: blue\">ORANGE</span>. In each case, we measure the time it takes to name the ink colors in equally-sized lists. Each participant will go through and record a time from each condition.\n",
    "\n",
    "## Get Set ...\n",
    "\n",
    "We are looking at the response time for saying congruent or incongruent words. Hence we can state that:\n",
    "\n",
    "- Congruent and Incongruent words, or the type of word is our **independent variable**. \n",
    "\n",
    "- Time taken to say the color of ink in two lists of same size would be our **dependent variable**.\n",
    "\n",
    "With our dependent and independent variables identified, let's set our null and alternate hypothesis. A null hypothesis in this case would be that there is no significant difference between the mean time taken, not just for this sample, but for the entire population to say colors for congruent (μ<sub>c</sub>) and incongruent (μ<sub>i</sub>) words. Even though it seems intutive that incongruent words will take longer time, my alternate hypothesis is that there is a significant difference in time taken for congruent and incongruent lists.\n",
    "\n",
    "H<sub>0</sub>: μ<sub>c</sub> = μ<sub>i</sub> or (μ<sub>c</sub> - μ<sub>i</sub> = 0)\n",
    "\n",
    "H<sub>A</sub>: μ<sub>c</sub> != μ<sub>i</sub> or (μ<sub>c</sub> - μ<sub>i</sub> != 0)\n",
    "\n",
    "where μ<sub>c</sub> and μ<sub>i</sub> are population mean.\n",
    "\n",
    "With these null and alternate hypothesis set, what kind of statistical tests am I going to do?\n",
    "\n",
    "*Two tailed dependent samples t-test*\n",
    "\n",
    "Since I am not concerened about the direction, I will certainly go for a two tailed test. My dataset for this test contains 24 records and parameters are not available to me. Given that t distribution is used for small sample sizes with unknown population variance, I will go for a dependent samples t-test and see if we can retain or reject the null hypothesis. Also the same person is taking the test twice, so this falls under the *within-subject* or *repeated-measures* tests.\n",
    "\n",
    "## Go ...\n",
    "\n",
    "Let's figure out some descriptive statistics about our dataset. \n",
    "\n",
    "- Degrees of freedom (n -1): 24 - 1 = 23\n"
   ]
  },
  {
   "cell_type": "code",
   "execution_count": 1,
   "metadata": {},
   "outputs": [],
   "source": [
    "%matplotlib inline\n",
    "import csv\n",
    "import matplotlib.pyplot as plt\n",
    "import seaborn as sns\n",
    "import numpy as np\n",
    "import math \n",
    "\n",
    "sns.set(style=\"darkgrid\")\n",
    "\n",
    "timings = []\n",
    "with open('./data/stroopdata.csv') as f:\n",
    "    reader = csv.DictReader(f, delimiter=',')\n",
    "    for row in reader:\n",
    "        timings.append(row)\n"
   ]
  },
  {
   "cell_type": "code",
   "execution_count": 2,
   "metadata": {},
   "outputs": [],
   "source": [
    "# takes a list of numbers and returns the mean\n",
    "def mean(data):\n",
    "    return sum(data[0:len(data)])/len(data)\n",
    "    "
   ]
  },
  {
   "cell_type": "code",
   "execution_count": 3,
   "metadata": {},
   "outputs": [],
   "source": [
    "# takes a list of numbers and returns the median\n",
    "def median(data):\n",
    "    data.sort()\n",
    "    length = len(data)\n",
    "\n",
    "    if length % 2 == 0:\n",
    "        median = ((data[(length//2)] + data[(length//2) - 1]) / 2)\n",
    "    else:\n",
    "        median = data[(length//2)]\n",
    "\n",
    "    return median"
   ]
  },
  {
   "cell_type": "code",
   "execution_count": 4,
   "metadata": {},
   "outputs": [],
   "source": [
    "# given a sample and sample mean, it returns the variance\n",
    "# for this very specific case, I am providing the mean as well, else it can be calculated\n",
    "def variance(data, mean):\n",
    "    # squared difference from mean\n",
    "    squared_difference = [(num - mean)**2 for num in data] \n",
    "    # sum of squared difference by degrees of freedom or sample size - 1\n",
    "    return sum(squared_difference[0:len(squared_difference)])/(len(squared_difference) - 1)"
   ]
  },
  {
   "cell_type": "code",
   "execution_count": 5,
   "metadata": {},
   "outputs": [],
   "source": [
    "def describe_data(data, entity_type):\n",
    "    mean_calculated = mean(data)\n",
    "    variance_calculated = variance(data, mean_calculated)\n",
    "    sd = math.sqrt(variance_calculated)\n",
    "    sem = sd / math.sqrt(len(data) - 1)\n",
    "    print('\\n-------------------------- {} --------------------------'.format(entity_type))\n",
    "    print('Mean: {}'.format(round(mean_calculated, 2)))\n",
    "    print('Median: {}'.format(round(median(data), 2)))\n",
    "    print('Variance: {}'.format(round(variance_calculated, 2)))\n",
    "    print('Standard Deviation: {}'.format(round(sd, 2)))\n",
    "    print('Standard Error: {}'.format(round(sem, 2)))\n",
    "    \n",
    "    plt.hist(data, 9)\n",
    "    plt.xlabel('Recognition Time (in seconds)')\n",
    "    plt.ylabel('Number of Words')\n",
    "    plt.title(entity_type)\n",
    "    plt.show()\n"
   ]
  },
  {
   "cell_type": "code",
   "execution_count": 6,
   "metadata": {},
   "outputs": [
    {
     "name": "stdout",
     "output_type": "stream",
     "text": [
      "\n",
      "-------------------------- congruent --------------------------\n",
      "Mean: 14.05\n",
      "Median: 14.36\n",
      "Variance: 12.67\n",
      "Standard Deviation: 3.56\n",
      "Standard Error: 0.74\n"
     ]
    },
    {
     "data": {
      "image/png": "[encoded data removed]",
      "text/plain": [
       "<matplotlib.figure.Figure at 0x104fea2b0>"
      ]
     },
     "metadata": {},
     "output_type": "display_data"
    },
    {
     "name": "stdout",
     "output_type": "stream",
     "text": [
      "\n",
      "-------------------------- Incongruent --------------------------\n",
      "Mean: 22.02\n",
      "Median: 21.02\n",
      "Variance: 23.01\n",
      "Standard Deviation: 4.8\n",
      "Standard Error: 1.0\n"
     ]
    },
    {
     "data": {
      "image/png": "[encoded data removed]",
      "text/plain": [
       "<matplotlib.figure.Figure at 0x109a5c4a8>"
      ]
     },
     "metadata": {},
     "output_type": "display_data"
    }
   ],
   "source": [
    "congruent_timings = [float(row['Congruent']) for row in timings]\n",
    "describe_data(congruent_timings, 'congruent')\n",
    "\n",
    "incongruent_timings = [float(row['Incongruent']) for row in timings]\n",
    "describe_data(incongruent_timings, 'Incongruent')"
   ]
  },
  {
   "cell_type": "markdown",
   "metadata": {},
   "source": [
    "# A picture is worth a thousand words\n",
    "\n",
    "Now that I have my measures for central tendencies, I will plot the distribution of number of words w.r.t recognition time for both congruent and incongruent lists."
   ]
  },
  {
   "cell_type": "code",
   "execution_count": 7,
   "metadata": {},
   "outputs": [
    {
     "data": {
      "image/png": "[encoded data removed]",
      "text/plain": [
       "<matplotlib.figure.Figure at 0x10cd527b8>"
      ]
     },
     "metadata": {},
     "output_type": "display_data"
    }
   ],
   "source": [
    "stacked_timings = [congruent_timings, incongruent_timings]\n",
    "label_texts = ['Congruent', 'Incongruent']\n",
    "plt.hist(stacked_timings, 12, histtype='bar', stacked=True, label=label_texts)\n",
    "plt.xlabel('Recognition Time (in seconds)')\n",
    "plt.ylabel('Number of Words')\n",
    "plt.title('Grouped timings for Congruent and Incongruent')\n",
    "plt.legend()\n",
    "plt.show()\n"
   ]
  },
  {
   "cell_type": "markdown",
   "metadata": {},
   "source": [
    "## Observations from our graphs \n",
    "\n",
    "Quite clearly the time taken for incomgruent lists is more than that of congruent lists. Also, both charts appear to be right skewed."
   ]
  },
  {
   "cell_type": "markdown",
   "metadata": {},
   "source": [
    "# Statistical test and Results\n",
    "\n",
    "For my tests, I will use the following:\n",
    "\n",
    "α = .01\n",
    "\n",
    "degrees of freedom = 23\n",
    "\n",
    "t-critical value = 2.807\n",
    "\n"
   ]
  },
  {
   "cell_type": "code",
   "execution_count": 8,
   "metadata": {},
   "outputs": [
    {
     "name": "stdout",
     "output_type": "stream",
     "text": [
      "t-statistic calculated is: -8.02\n"
     ]
    }
   ],
   "source": [
    "difference_data = [(float(row['Congruent']) - float(row['Incongruent'])) for row in timings]\n",
    "diff_mean = mean(difference_data)\n",
    "diff_variance = variance(difference_data, diff_mean)\n",
    "diff_standard_deviation = math.sqrt(diff_variance)\n",
    "t_stat = round(diff_mean/(diff_standard_deviation / math.sqrt(len(difference_data))), 2)\n",
    "print(\"t-statistic calculated is: {}\".format(t_stat))\n"
   ]
  },
  {
   "cell_type": "markdown",
   "metadata": {},
   "source": [
    "At α = .01 or 99% confidence level, t-critical value is 2.807 for a two tailed test. Since t-statistic is outside the t-critical region, I will reject the null hypothesis. I also noticed that t-statistic is negative, so the difference between congruent and incongruent lists seems to be negative. In other words, incongruent lists take more time to read. At α = .01, we can say that there is a statisticaly significant difference in time taken to recongnize the color for congruent and incongruent lists.\n",
    "\n",
    "My initial intution was that incongruent lists would take more time to read, but for my experiment, I just wanted to determine if there was significant difference between both the lists, in either direction. As we can see from the result, there is a difference and as expected."
   ]
  },
  {
   "cell_type": "markdown",
   "metadata": {},
   "source": [
    "# Think some more\n",
    "\n",
    "- What do you think is responsible for the effects observed? \n",
    "    \n",
    "    If I have to make a guess, I would say that human brain can either focus on color or the word. If the color and word are same, there is just one recognition task, either of color or word. When the color and word don't match, there is another decision that brain has to make, say the color or say the word. This decision making depends on each person and hence the time taken for incongruent lists will be more for most people.\n",
    "    \n",
    "- Can you think of an alternative or similar task that would result in a similar effect?\n",
    "\n",
    "    Another task that can be similar to this would be counting number of characters in word. One set of words will be words for numbers, for example four, three, two, ten. Another set of words would be any other word that doesn't represent a number. The set with numbers should be difficult to count as the mind would try to read the word as number rather than counting characters.\n",
    "    \n",
    "## Sources\n",
    "- Udacity Lectures from Machine Learning Foundation Nano Degree."
   ]
  }
 ],
 "metadata": {
  "kernelspec": {
   "display_name": "Python 3",
   "language": "python",
   "name": "python3"
  },
  "language_info": {
   "codemirror_mode": {
    "name": "ipython",
    "version": 3
   },
   "file_extension": ".py",
   "mimetype": "text/x-python",
   "name": "python",
   "nbconvert_exporter": "python",
   "pygments_lexer": "ipython3",
   "version": "3.6.4"
  }
 },
 "nbformat": 4,
 "nbformat_minor": 2
}
